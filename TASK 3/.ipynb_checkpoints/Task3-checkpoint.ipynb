{
 "cells": [
  {
   "cell_type": "code",
   "execution_count": 44,
   "id": "c7af7d3a",
   "metadata": {},
   "outputs": [],
   "source": [
    "from openpyxl import Workbook"
   ]
  },
  {
   "cell_type": "code",
   "execution_count": 45,
   "id": "c69066b1",
   "metadata": {},
   "outputs": [],
   "source": [
    "wb1 = Workbook()"
   ]
  },
  {
   "cell_type": "code",
   "execution_count": 46,
   "id": "a3ac9c83",
   "metadata": {},
   "outputs": [],
   "source": [
    "ws1 = wb1.active"
   ]
  },
  {
   "cell_type": "code",
   "execution_count": 54,
   "id": "580a565f",
   "metadata": {},
   "outputs": [],
   "source": [
    "fruit_data=[[\"Fruit_Name\",\"Quantity\"],[\"Mango\",\"3\"],[\"Gauva\",\"10\"],[\"Banana\",\"8\"],[\"Mango\",\"15\"],[\"Watermelon\",\"4\"]]"
   ]
  },
  {
   "cell_type": "code",
   "execution_count": 55,
   "id": "960dc8de",
   "metadata": {},
   "outputs": [],
   "source": [
    "for row in fruit_data:\n",
    "    ws.append(row)"
   ]
  },
  {
   "cell_type": "code",
   "execution_count": 49,
   "id": "a41635b4",
   "metadata": {},
   "outputs": [],
   "source": [
    "wb1.save('C:\\\\Users\\\\rauts\\\\OneDrive\\\\Documents\\\\PHN Tech Internship\\\\TASK 3\\\\fruit_data.xlsx')"
   ]
  },
  {
   "cell_type": "code",
   "execution_count": 10,
   "id": "fd362921",
   "metadata": {},
   "outputs": [
    {
     "data": {
      "text/html": [
       "<div>\n",
       "<style scoped>\n",
       "    .dataframe tbody tr th:only-of-type {\n",
       "        vertical-align: middle;\n",
       "    }\n",
       "\n",
       "    .dataframe tbody tr th {\n",
       "        vertical-align: top;\n",
       "    }\n",
       "\n",
       "    .dataframe thead th {\n",
       "        text-align: right;\n",
       "    }\n",
       "</style>\n",
       "<table border=\"1\" class=\"dataframe\">\n",
       "  <thead>\n",
       "    <tr style=\"text-align: right;\">\n",
       "      <th></th>\n",
       "      <th>Fruit Name</th>\n",
       "      <th>Quantity</th>\n",
       "    </tr>\n",
       "  </thead>\n",
       "  <tbody>\n",
       "    <tr>\n",
       "      <th>0</th>\n",
       "      <td>Mango</td>\n",
       "      <td>3</td>\n",
       "    </tr>\n",
       "    <tr>\n",
       "      <th>1</th>\n",
       "      <td>Gauva</td>\n",
       "      <td>10</td>\n",
       "    </tr>\n",
       "    <tr>\n",
       "      <th>2</th>\n",
       "      <td>Banana</td>\n",
       "      <td>8</td>\n",
       "    </tr>\n",
       "    <tr>\n",
       "      <th>3</th>\n",
       "      <td>Mango</td>\n",
       "      <td>15</td>\n",
       "    </tr>\n",
       "    <tr>\n",
       "      <th>4</th>\n",
       "      <td>Watermelon</td>\n",
       "      <td>4</td>\n",
       "    </tr>\n",
       "  </tbody>\n",
       "</table>\n",
       "</div>"
      ],
      "text/plain": [
       "   Fruit Name  Quantity\n",
       "0       Mango         3\n",
       "1       Gauva        10\n",
       "2      Banana         8\n",
       "3       Mango        15\n",
       "4  Watermelon         4"
      ]
     },
     "execution_count": 10,
     "metadata": {},
     "output_type": "execute_result"
    }
   ],
   "source": [
    "#1. Read the data from the Excel spreadsheet.\n",
    "import pandas as pd \n",
    "v1=pd.read_excel('C:\\\\Users\\\\rauts\\\\OneDrive\\\\Documents\\\\PHN Tech Internship\\\\TASK 3\\\\fruit_data.xlsx')\n",
    "v1.head()"
   ]
  },
  {
   "cell_type": "code",
   "execution_count": 13,
   "id": "d3d4f4b4",
   "metadata": {},
   "outputs": [],
   "source": [
    "#2. Calculate the total quantity of each fruit.\n"
   ]
  },
  {
   "cell_type": "code",
   "execution_count": 19,
   "id": "3ef8537a",
   "metadata": {},
   "outputs": [],
   "source": [
    "# 3. Write the results to a new Excel spreadsheet with the following format:\n",
    "# 4. The first column should contain the name of each fruit.\n",
    "# 5. The second column should contain the total quantity of that fruit.\n",
    "from openpyxl import Workbook\n",
    "wb2 = Workbook()\n",
    "ws2=wb2.active\n",
    "result_data=[\"Fruit_Name\",\"Quantity\"],[\"Mango\",\"15\"],[\"Gauva\",\"10\"],[\"Banana\",\"8\"],[\"Watermelon\",\"4\"]\n",
    "for row in result_data:\n",
    "    ws2.append(row)\n",
    "wb2.save('C:\\\\Users\\\\rauts\\\\OneDrive\\\\Documents\\\\PHN Tech Internship\\\\TASK 3\\\\result_data.xlsx')\n",
    "\n",
    "\n",
    "\n"
   ]
  },
  {
   "cell_type": "code",
   "execution_count": 20,
   "id": "d5ed8caf",
   "metadata": {},
   "outputs": [
    {
     "data": {
      "text/html": [
       "<div>\n",
       "<style scoped>\n",
       "    .dataframe tbody tr th:only-of-type {\n",
       "        vertical-align: middle;\n",
       "    }\n",
       "\n",
       "    .dataframe tbody tr th {\n",
       "        vertical-align: top;\n",
       "    }\n",
       "\n",
       "    .dataframe thead th {\n",
       "        text-align: right;\n",
       "    }\n",
       "</style>\n",
       "<table border=\"1\" class=\"dataframe\">\n",
       "  <thead>\n",
       "    <tr style=\"text-align: right;\">\n",
       "      <th></th>\n",
       "      <th>Fruit_Name</th>\n",
       "      <th>Quantity</th>\n",
       "    </tr>\n",
       "  </thead>\n",
       "  <tbody>\n",
       "    <tr>\n",
       "      <th>0</th>\n",
       "      <td>Mango</td>\n",
       "      <td>15</td>\n",
       "    </tr>\n",
       "    <tr>\n",
       "      <th>1</th>\n",
       "      <td>Gauva</td>\n",
       "      <td>10</td>\n",
       "    </tr>\n",
       "    <tr>\n",
       "      <th>2</th>\n",
       "      <td>Banana</td>\n",
       "      <td>8</td>\n",
       "    </tr>\n",
       "    <tr>\n",
       "      <th>3</th>\n",
       "      <td>Watermelon</td>\n",
       "      <td>4</td>\n",
       "    </tr>\n",
       "  </tbody>\n",
       "</table>\n",
       "</div>"
      ],
      "text/plain": [
       "   Fruit_Name  Quantity\n",
       "0       Mango        15\n",
       "1       Gauva        10\n",
       "2      Banana         8\n",
       "3  Watermelon         4"
      ]
     },
     "execution_count": 20,
     "metadata": {},
     "output_type": "execute_result"
    }
   ],
   "source": [
    "import pandas as pd \n",
    "v2=pd.read_excel('C:\\\\Users\\\\rauts\\\\OneDrive\\\\Documents\\\\PHN Tech Internship\\\\TASK 3\\\\result_data.xlsx')\n",
    "v2.head()"
   ]
  }
 ],
 "metadata": {
  "kernelspec": {
   "display_name": "Python 3 (ipykernel)",
   "language": "python",
   "name": "python3"
  },
  "language_info": {
   "codemirror_mode": {
    "name": "ipython",
    "version": 3
   },
   "file_extension": ".py",
   "mimetype": "text/x-python",
   "name": "python",
   "nbconvert_exporter": "python",
   "pygments_lexer": "ipython3",
   "version": "3.10.9"
  }
 },
 "nbformat": 4,
 "nbformat_minor": 5
}
