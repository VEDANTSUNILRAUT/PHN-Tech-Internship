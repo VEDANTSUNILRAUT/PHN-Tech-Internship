{
 "cells": [
  {
   "cell_type": "code",
   "execution_count": 4,
   "id": "12270e60",
   "metadata": {},
   "outputs": [
    {
     "name": "stdout",
     "output_type": "stream",
     "text": [
      "Predicted slope: 1.8296633387184826\n",
      "Predicted intercept: -0.07082581280864143\n",
      "Predicted output: 1.2747063475792617\n"
     ]
    }
   ],
   "source": [
    "import numpy as np\n",
    "from sklearn.linear_model import LinearRegression\n",
    "from sklearn.preprocessing import StandardScaler\n",
    "\n",
    "# Generate dataset\n",
    "np.random.seed(0)\n",
    "num_samples = 1000\n",
    "# Input variables (random values between 0 and 1)\n",
    "X = np.random.rand(num_samples, 2)  \n",
    "slope = np.random.uniform(-10, 10)\n",
    "intercept = np.random.uniform(-5, 5)\n",
    " # Corresponding output values (linear equation)\n",
    "y = slope * X[:, 0] + intercept * X[:, 1] \n",
    "\n",
    "# Data pre-processing\n",
    "scaler = StandardScaler()\n",
    "X_scaled = scaler.fit_transform(X)\n",
    "\n",
    "# Train the model\n",
    "model = LinearRegression()\n",
    "model.fit(X_scaled, y)\n",
    "\n",
    "# Predict coefficients for a new linear equation\n",
    "new_input = np.array([[0.7, 0.3]])  # Example input values for prediction\n",
    "new_input_scaled = scaler.transform(new_input)\n",
    "predicted_slope = model.coef_[0]\n",
    "predicted_intercept = model.coef_[1]\n",
    "predicted_output = predicted_slope * new_input_scaled[0, 0] + predicted_intercept * new_input_scaled[0, 1]\n",
    "\n",
    "# Print the predicted coefficients and output\n",
    "print(\"Predicted slope:\", predicted_slope)\n",
    "print(\"Predicted intercept:\", predicted_intercept)\n",
    "print(\"Predicted output:\", predicted_output)\n",
    "\n",
    "\n"
   ]
  }
 ],
 "metadata": {
  "kernelspec": {
   "display_name": "Python 3 (ipykernel)",
   "language": "python",
   "name": "python3"
  },
  "language_info": {
   "codemirror_mode": {
    "name": "ipython",
    "version": 3
   },
   "file_extension": ".py",
   "mimetype": "text/x-python",
   "name": "python",
   "nbconvert_exporter": "python",
   "pygments_lexer": "ipython3",
   "version": "3.10.9"
  }
 },
 "nbformat": 4,
 "nbformat_minor": 5
}
