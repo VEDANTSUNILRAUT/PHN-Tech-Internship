{
 "cells": [
  {
   "cell_type": "code",
   "execution_count": 34,
   "id": "11bfbd90",
   "metadata": {},
   "outputs": [
    {
     "name": "stdout",
     "output_type": "stream",
     "text": [
      "[1 2 3 4 5]\n"
     ]
    }
   ],
   "source": [
    "# 1. Create a NumPy array with the following values: [1, 2, 3, 4, 5].\n",
    "import numpy as np\n",
    "v = np.array([1,2,3,4,5])\n",
    "print(v)"
   ]
  },
  {
   "cell_type": "code",
   "execution_count": 35,
   "id": "47782161",
   "metadata": {},
   "outputs": [
    {
     "name": "stdout",
     "output_type": "stream",
     "text": [
      "(5,)\n"
     ]
    }
   ],
   "source": [
    "# Print the shape of the array using the .shape attribute.\n",
    "v_shape = np.shape(v)\n",
    "print(v_shape)"
   ]
  },
  {
   "cell_type": "code",
   "execution_count": 36,
   "id": "ff8b2cb7",
   "metadata": {},
   "outputs": [
    {
     "name": "stdout",
     "output_type": "stream",
     "text": [
      "[[1 2 3]\n",
      " [4 5 6]]\n"
     ]
    }
   ],
   "source": [
    "# Reshape the array into a 2D array with 2 rows and 3 columns.\n",
    "v1 = np.array([1,2,3,4,5,6])\n",
    "v1_reshape = v1.reshape(2,3)\n",
    "print(v1_reshape)"
   ]
  },
  {
   "cell_type": "code",
   "execution_count": 37,
   "id": "3f793c7d",
   "metadata": {},
   "outputs": [
    {
     "name": "stdout",
     "output_type": "stream",
     "text": [
      "(6,)\n"
     ]
    }
   ],
   "source": [
    "# 4. Print the shape of the new array.\n",
    "v1_shape = np.shape(v1)\n",
    "print(v1_shape)"
   ]
  },
  {
   "cell_type": "code",
   "execution_count": 38,
   "id": "11de3680",
   "metadata": {},
   "outputs": [
    {
     "name": "stdout",
     "output_type": "stream",
     "text": [
      "[ 6  7  8  9 10]\n"
     ]
    }
   ],
   "source": [
    "# 5. Create a second NumPy array with the following values: [6, 7, 8, 9, 10].\n",
    "v2 = np.array([6,7,8,9,10])\n",
    "print(v2)"
   ]
  },
  {
   "cell_type": "code",
   "execution_count": 39,
   "id": "2713dbb1",
   "metadata": {},
   "outputs": [],
   "source": [
    "# 6. Concatenate the two arrays together horizontally.\n",
    "result = np.hstack((v,v2))"
   ]
  },
  {
   "cell_type": "code",
   "execution_count": 40,
   "id": "45d9f990",
   "metadata": {},
   "outputs": [
    {
     "name": "stdout",
     "output_type": "stream",
     "text": [
      "[ 1  2  3  4  5  6  7  8  9 10]\n"
     ]
    }
   ],
   "source": [
    "# 7. Print the resulting array.\n",
    "print(result)"
   ]
  },
  {
   "cell_type": "code",
   "execution_count": 46,
   "id": "cc85b0ce",
   "metadata": {},
   "outputs": [
    {
     "name": "stdout",
     "output_type": "stream",
     "text": [
      "Mean= 5.5\n",
      "Median= 5.5\n",
      "Step Deviation= 2.8722813232690143\n"
     ]
    }
   ],
   "source": [
    "# 8. Compute the resulting array's mean, median, and standard deviation\n",
    "result_mean = np.mean(result)\n",
    "print(\"Mean=\",result_mean)\n",
    "\n",
    "result_median = np.median(result)\n",
    "print(\"Median=\",result_median)\n",
    "\n",
    "result_std_dev = np.std(result)\n",
    "print(\"Step Deviation=\",result_std_dev)"
   ]
  },
  {
   "cell_type": "code",
   "execution_count": null,
   "id": "44c17d1b",
   "metadata": {},
   "outputs": [],
   "source": []
  }
 ],
 "metadata": {
  "kernelspec": {
   "display_name": "Python 3 (ipykernel)",
   "language": "python",
   "name": "python3"
  },
  "language_info": {
   "codemirror_mode": {
    "name": "ipython",
    "version": 3
   },
   "file_extension": ".py",
   "mimetype": "text/x-python",
   "name": "python",
   "nbconvert_exporter": "python",
   "pygments_lexer": "ipython3",
   "version": "3.10.9"
  }
 },
 "nbformat": 4,
 "nbformat_minor": 5
}
