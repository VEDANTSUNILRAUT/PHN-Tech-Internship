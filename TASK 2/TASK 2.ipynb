{
 "cells": [
  {
   "cell_type": "code",
   "execution_count": 19,
   "id": "dd001ffa",
   "metadata": {},
   "outputs": [
    {
     "name": "stdout",
     "output_type": "stream",
     "text": [
      "     PassengerId  Survived  Pclass  \\\n",
      "0              1         0       3   \n",
      "1              2         1       1   \n",
      "2              3         1       3   \n",
      "3              4         1       1   \n",
      "4              5         0       3   \n",
      "..           ...       ...     ...   \n",
      "886          887         0       2   \n",
      "887          888         1       1   \n",
      "888          889         0       3   \n",
      "889          890         1       1   \n",
      "890          891         0       3   \n",
      "\n",
      "                                                  Name     Sex   Age  SibSp  \\\n",
      "0                              Braund, Mr. Owen Harris    male  22.0      1   \n",
      "1    Cumings, Mrs. John Bradley (Florence Briggs Th...  female  38.0      1   \n",
      "2                               Heikkinen, Miss. Laina  female  26.0      0   \n",
      "3         Futrelle, Mrs. Jacques Heath (Lily May Peel)  female  35.0      1   \n",
      "4                             Allen, Mr. William Henry    male  35.0      0   \n",
      "..                                                 ...     ...   ...    ...   \n",
      "886                              Montvila, Rev. Juozas    male  27.0      0   \n",
      "887                       Graham, Miss. Margaret Edith  female  19.0      0   \n",
      "888           Johnston, Miss. Catherine Helen \"Carrie\"  female   NaN      1   \n",
      "889                              Behr, Mr. Karl Howell    male  26.0      0   \n",
      "890                                Dooley, Mr. Patrick    male  32.0      0   \n",
      "\n",
      "     Parch            Ticket     Fare Cabin Embarked  Unnamed: 12  \\\n",
      "0        0         A/5 21171   7.2500   NaN        S          NaN   \n",
      "1        0          PC 17599  71.2833   C85        C          NaN   \n",
      "2        0  STON/O2. 3101282   7.9250   NaN        S          NaN   \n",
      "3        0            113803  53.1000  C123        S          NaN   \n",
      "4        0            373450   8.0500   NaN        S          NaN   \n",
      "..     ...               ...      ...   ...      ...          ...   \n",
      "886      0            211536  13.0000   NaN        S          NaN   \n",
      "887      0            112053  30.0000   B42        S          NaN   \n",
      "888      2        W./C. 6607  23.4500   NaN        S          NaN   \n",
      "889      0            111369  30.0000  C148        C          NaN   \n",
      "890      0            370376   7.7500   NaN        Q          NaN   \n",
      "\n",
      "     Unnamed: 13  Unnamed: 14  Unnamed: 15  Unnamed: 16  \n",
      "0            NaN          NaN          NaN          NaN  \n",
      "1            NaN          NaN          NaN          NaN  \n",
      "2            NaN          NaN          NaN          NaN  \n",
      "3            NaN          NaN          NaN          NaN  \n",
      "4            NaN          NaN          NaN          NaN  \n",
      "..           ...          ...          ...          ...  \n",
      "886          NaN          NaN          NaN          NaN  \n",
      "887          NaN          NaN          NaN          NaN  \n",
      "888          NaN          NaN          NaN          NaN  \n",
      "889          NaN          NaN          NaN          NaN  \n",
      "890          NaN          NaN          NaN          NaN  \n",
      "\n",
      "[891 rows x 17 columns]\n"
     ]
    }
   ],
   "source": [
    "#Prepare the Titanic dataset file.\n",
    "import pandas as pd\n",
    "titanic_dataset=pd.read_csv('C:\\\\Users\\\\rauts\\\\OneDrive\\Documents\\\\titanic_dataset.csv')\n",
    "print(titanic_dataset)"
   ]
  },
  {
   "cell_type": "code",
   "execution_count": 23,
   "id": "eb97939a",
   "metadata": {},
   "outputs": [
    {
     "name": "stdout",
     "output_type": "stream",
     "text": [
      "     PassengerId  Survived  Pclass  \\\n",
      "0              1         0       3   \n",
      "2              3         1       3   \n",
      "7              8         0       3   \n",
      "8              9         1       3   \n",
      "9             10         1       2   \n",
      "..           ...       ...     ...   \n",
      "884          885         0       3   \n",
      "886          887         0       2   \n",
      "887          888         1       1   \n",
      "889          890         1       1   \n",
      "890          891         0       3   \n",
      "\n",
      "                                                  Name     Sex   Age  SibSp  \\\n",
      "0                              Braund, Mr. Owen Harris    male  22.0      1   \n",
      "2                               Heikkinen, Miss. Laina  female  26.0      0   \n",
      "7                       Palsson, Master. Gosta Leonard    male   2.0      3   \n",
      "8    Johnson, Mrs. Oscar W (Elisabeth Vilhelmina Berg)  female  27.0      0   \n",
      "9                  Nasser, Mrs. Nicholas (Adele Achem)  female  14.0      1   \n",
      "..                                                 ...     ...   ...    ...   \n",
      "884                             Sutehall, Mr. Henry Jr    male  25.0      0   \n",
      "886                              Montvila, Rev. Juozas    male  27.0      0   \n",
      "887                       Graham, Miss. Margaret Edith  female  19.0      0   \n",
      "889                              Behr, Mr. Karl Howell    male  26.0      0   \n",
      "890                                Dooley, Mr. Patrick    male  32.0      0   \n",
      "\n",
      "     Parch            Ticket     Fare Cabin Embarked  Unnamed: 12  \\\n",
      "0        0         A/5 21171   7.2500   NaN        S          NaN   \n",
      "2        0  STON/O2. 3101282   7.9250   NaN        S          NaN   \n",
      "7        1            349909  21.0750   NaN        S          NaN   \n",
      "8        2            347742  11.1333   NaN        S          NaN   \n",
      "9        0            237736  30.0708   NaN        C          NaN   \n",
      "..     ...               ...      ...   ...      ...          ...   \n",
      "884      0   SOTON/OQ 392076   7.0500   NaN        S          NaN   \n",
      "886      0            211536  13.0000   NaN        S          NaN   \n",
      "887      0            112053  30.0000   B42        S          NaN   \n",
      "889      0            111369  30.0000  C148        C          NaN   \n",
      "890      0            370376   7.7500   NaN        Q          NaN   \n",
      "\n",
      "     Unnamed: 13  Unnamed: 14  Unnamed: 15  Unnamed: 16  \n",
      "0            NaN          NaN          NaN          NaN  \n",
      "2            NaN          NaN          NaN          NaN  \n",
      "7            NaN          NaN          NaN          NaN  \n",
      "8            NaN          NaN          NaN          NaN  \n",
      "9            NaN          NaN          NaN          NaN  \n",
      "..           ...          ...          ...          ...  \n",
      "884          NaN          NaN          NaN          NaN  \n",
      "886          NaN          NaN          NaN          NaN  \n",
      "887          NaN          NaN          NaN          NaN  \n",
      "889          NaN          NaN          NaN          NaN  \n",
      "890          NaN          NaN          NaN          NaN  \n",
      "\n",
      "[479 rows x 17 columns]\n"
     ]
    }
   ],
   "source": [
    "#Find out the names of passengers younger than 35 years.\n",
    "Age_35=titanic_dataset[titanic_dataset[\"Age\"]<35]\n",
    "print(Age_35)"
   ]
  },
  {
   "cell_type": "code",
   "execution_count": 33,
   "id": "de7c1aa4",
   "metadata": {},
   "outputs": [
    {
     "name": "stdout",
     "output_type": "stream",
     "text": [
      "                                                 Name     Sex\n",
      "10                    Sandstrom, Miss. Marguerite Rut  female\n",
      "11                           Bonnell, Miss. Elizabeth  female\n",
      "12                     Saundercock, Mr. William Henry    male\n",
      "13                        Andersson, Mr. Anders Johan    male\n",
      "14               Vestrom, Miss. Hulda Amanda Adolfina  female\n",
      "15                   Hewlett, Mrs. (Mary D Kingcome)   female\n",
      "16                               Rice, Master. Eugene    male\n",
      "17                       Williams, Mr. Charles Eugene    male\n",
      "18  Vander Planke, Mrs. Julius (Emelia Maria Vande...  female\n",
      "19                            Masselmani, Mrs. Fatima  female\n",
      "20                               Fynney, Mr. Joseph J    male\n",
      "21                              Beesley, Mr. Lawrence    male\n",
      "22                        McGowan, Miss. Anna \"Annie\"  female\n",
      "23                       Sloper, Mr. William Thompson    male\n",
      "24                      Palsson, Miss. Torborg Danira  female\n"
     ]
    }
   ],
   "source": [
    "#Print the rows from index 10 to 25 and columns 3 to 5.\n",
    "data=titanic_dataset.iloc[10:25, 3:5]\n",
    "print(data)"
   ]
  },
  {
   "cell_type": "code",
   "execution_count": 34,
   "id": "db76d4f7",
   "metadata": {},
   "outputs": [
    {
     "name": "stdout",
     "output_type": "stream",
     "text": [
      "              Age        Fare\n",
      "min      0.420000    0.000000\n",
      "max     80.000000  512.329200\n",
      "median  28.000000   14.454200\n",
      "mean    29.699118   32.204208\n"
     ]
    }
   ],
   "source": [
    "#Find out the statistics aggregate of Age & Fare using the DataFrame.agg() method.\n",
    "Aggregate=titanic_dataset.agg(\n",
    "    {\n",
    "        \"Age\": [\"min\", \"max\", \"median\", \"mean\"],\n",
    "        \"Fare\": [\"min\", \"max\", \"median\", \"mean\"],\n",
    "    }\n",
    ")\n",
    "print(Aggregate)"
   ]
  },
  {
   "cell_type": "code",
   "execution_count": 35,
   "id": "558e36d8",
   "metadata": {},
   "outputs": [
    {
     "name": "stdout",
     "output_type": "stream",
     "text": [
      "Sex     Pclass\n",
      "female  1         106.125798\n",
      "        2          21.970121\n",
      "        3          16.118810\n",
      "male    1          67.226127\n",
      "        2          19.741782\n",
      "        3          12.661633\n",
      "Name: Fare, dtype: float64\n"
     ]
    }
   ],
   "source": [
    "#Find out the mean ticket fare price for each of the sex and cabin class combinations.\n",
    "mean=titanic_dataset.groupby([\"Sex\", \"Pclass\"])[\"Fare\"].mean()\n",
    "print(mean)"
   ]
  }
 ],
 "metadata": {
  "kernelspec": {
   "display_name": "Python 3 (ipykernel)",
   "language": "python",
   "name": "python3"
  },
  "language_info": {
   "codemirror_mode": {
    "name": "ipython",
    "version": 3
   },
   "file_extension": ".py",
   "mimetype": "text/x-python",
   "name": "python",
   "nbconvert_exporter": "python",
   "pygments_lexer": "ipython3",
   "version": "3.10.9"
  }
 },
 "nbformat": 4,
 "nbformat_minor": 5
}
